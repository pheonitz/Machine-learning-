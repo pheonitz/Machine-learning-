{
  "nbformat": 4,
  "nbformat_minor": 0,
  "metadata": {
    "colab": {
      "provenance": []
    },
    "kernelspec": {
      "name": "python3",
      "display_name": "Python 3"
    },
    "language_info": {
      "name": "python"
    }
  },
  "cells": [
    {
      "cell_type": "code",
      "execution_count": null,
      "metadata": {
        "id": "BOhGq5fDifji"
      },
      "outputs": [],
      "source": [
        "import numpy as np\n",
        "import pandas as pd\n",
        "from sklearn.model_selection import train_test_split\n",
        "from sklearn.feature_extraction.text import TfidfVectorizer\n",
        "from sklearn.linear_model import LogisticRegression\n",
        "from sklearn.metrics import accuracy_score\n",
        "from sklearn.impute import SimpleImputer"
      ]
    },
    {
      "cell_type": "code",
      "source": [
        "# data preprocesssing\n",
        "\n",
        "df = pd.read_csv('mail_data.csv')\n",
        "print(df)"
      ],
      "metadata": {
        "id": "1ZB6XMXJkFPw"
      },
      "execution_count": null,
      "outputs": []
    },
    {
      "cell_type": "code",
      "source": [
        "# checking null values\n",
        "df.isnull().sum()\n",
        "mail_data = df.where((pd.notnull(df)) , '')\n"
      ],
      "metadata": {
        "id": "wx468B4ckjbz"
      },
      "execution_count": null,
      "outputs": []
    },
    {
      "cell_type": "code",
      "source": [
        "mail_data.head()"
      ],
      "metadata": {
        "id": "Om9-p23-lYdh"
      },
      "execution_count": null,
      "outputs": []
    },
    {
      "cell_type": "code",
      "source": [],
      "metadata": {
        "id": "Z_lG4Bd5xVmU"
      },
      "execution_count": null,
      "outputs": []
    },
    {
      "cell_type": "code",
      "source": [
        "import seaborn as sns\n",
        "sns.countplot(mail_data['Category'])\n"
      ],
      "metadata": {
        "id": "gM78a5c1ly0g"
      },
      "execution_count": null,
      "outputs": []
    },
    {
      "cell_type": "code",
      "source": [
        "# Label encoding\n",
        "from sklearn.preprocessing import LabelEncoder\n",
        "label_encoder = LabelEncoder()\n",
        "\n",
        "mail_data['Category'] = label_encoder.fit_transform(mail_data['Category'])\n",
        "print(mail_data)"
      ],
      "metadata": {
        "id": "dIiN-pMgnaF5"
      },
      "execution_count": null,
      "outputs": []
    },
    {
      "cell_type": "code",
      "source": [
        "# separating the data as text and labels\n",
        "x = mail_data['Message']\n",
        "y = mail_data['Category']\n",
        "\n",
        "#splitiing the data\n",
        "x_train , x_test , y_train , y_test = train_test_split(x , y , test_size = 0.3 , random_state=42)"
      ],
      "metadata": {
        "id": "lMVXu7cXogbs"
      },
      "execution_count": null,
      "outputs": []
    },
    {
      "cell_type": "code",
      "source": [
        "from sklearn.feature_extraction.text import TfidfVectorizer\n",
        "\n",
        "feature_extraction = TfidfVectorizer(min_df = 1, stop_words='english')\n",
        "print(len(x_train))\n",
        "x_train_features = feature_extraction.fit_transform(x_train)\n",
        "print((x_train_features.shape))\n",
        "x_test_features = feature_extraction.transform(x_test)\n",
        "\n"
      ],
      "metadata": {
        "id": "NaMSyEehps6C"
      },
      "execution_count": null,
      "outputs": []
    },
    {
      "cell_type": "code",
      "source": [
        "print(x_train_features.shape)\n",
        "print(y_train.shape)\n"
      ],
      "metadata": {
        "id": "ODRB9wSY0wpu"
      },
      "execution_count": null,
      "outputs": []
    },
    {
      "cell_type": "code",
      "source": [
        "print(x_train_features)"
      ],
      "metadata": {
        "id": "jdq8jiYRu-lt"
      },
      "execution_count": null,
      "outputs": []
    },
    {
      "cell_type": "markdown",
      "source": [
        "**LOGISTIC REGRESSION**"
      ],
      "metadata": {
        "id": "kUS7BXpI62S4"
      }
    },
    {
      "cell_type": "code",
      "source": [
        "model = LogisticRegression()\n",
        "model.fit(x_train_features , y_train)"
      ],
      "metadata": {
        "id": "rVkSDvALyIS-"
      },
      "execution_count": null,
      "outputs": []
    },
    {
      "cell_type": "markdown",
      "source": [
        "**DECISCION TREE CLASSIFIER**"
      ],
      "metadata": {
        "id": "xTvnC0Np6HSW"
      }
    },
    {
      "cell_type": "code",
      "source": [
        "# deciscion tree classifier\n",
        "\n",
        "from sklearn.metrics import accuracy_score, precision_score, recall_score, f1_score, confusion_matrix\n",
        "from sklearn.metrics import classification_report\n",
        "\n",
        "from sklearn.tree import DecisionTreeClassifier\n",
        "model2 = DecisionTreeClassifier(random_state=42)\n",
        "\n",
        "model2.fit(x_train_features , y_train)\n",
        "y_pred_tree = model.predict(x_train_features)\n",
        "\n",
        "print(\"accuracy \" , accuracy_score(y_train , y_pred_tree))\n",
        "\n",
        "precision = precision_score(y_train , y_pred_tree)\n",
        "print(\"Precision:\", precision)\n",
        "\n",
        "# Recall\n",
        "recall = recall_score(y_train , y_pred_tree)\n",
        "print(\"Recall:\", recall)\n",
        "\n",
        "# F1-Score\n",
        "f1 = f1_score(y_train , y_pred_tree)\n",
        "print(\"F1-Score:\", f1)\n",
        "\n",
        "conf_matrix = confusion_matrix(y_train , y_pred_tree)\n",
        "print(\"Confusion Matrix:\")\n",
        "print(conf_matrix)\n",
        "\n",
        "print(\"Classification Report:\")\n",
        "print(classification_report(y_train, y_pred_tree))"
      ],
      "metadata": {
        "id": "7acoPXoH5brU"
      },
      "execution_count": null,
      "outputs": []
    },
    {
      "cell_type": "markdown",
      "source": [
        "**SVM CLASSIFIER**"
      ],
      "metadata": {
        "id": "nXv9rdob8Kfi"
      }
    },
    {
      "cell_type": "code",
      "source": [
        "# testing data\n",
        "from sklearn.svm import SVC\n",
        "\n",
        "model3 = SVC(kernel = 'linear')\n",
        "model3.fit(x_train_features , y_train)\n",
        "\n",
        "# make predictions\n",
        "y_predict_svm = model3.predict(x_test_features)\n",
        "\n",
        "print(\"accuracy \" , accuracy_score(y_test , y_predict_svm))\n",
        "\n",
        "# Recall\n",
        "recall = recall_score(y_test , y_predict_svm)\n",
        "print(\"Recall:\", recall)\n",
        "\n",
        "# F1-Score\n",
        "f1 = f1_score(y_test , y_predict_svm)\n",
        "print(\"F1-Score:\", f1)\n",
        "\n",
        "conf_matrix = confusion_matrix(y_test , y_predict_svm)\n",
        "print(\"Confusion Matrix:\")\n",
        "print(conf_matrix)\n",
        "\n",
        "print(\"Classification Report:\")\n",
        "print(classification_report(y_test , y_predict_svm))"
      ],
      "metadata": {
        "id": "Jd2p3sAv7_1u"
      },
      "execution_count": null,
      "outputs": []
    },
    {
      "cell_type": "markdown",
      "source": [
        "**KNN ALGORITHIM**"
      ],
      "metadata": {
        "id": "qiYlXDj7918l"
      }
    },
    {
      "cell_type": "code",
      "source": [
        "from sklearn.neighbors import KNeighborsClassifier\n",
        "\n",
        "# for testing data\n",
        "\n",
        "knn = KNeighborsClassifier(n_neighbors= 3)\n",
        "knn.fit(x_train_features , y_train)\n",
        "\n",
        "knn_pred = knn.predict(x_test_features)\n",
        "\n",
        "print(\"accuracy \" , accuracy_score(y_test , knn_pred))\n",
        "\n",
        "# Recall\n",
        "recall = recall_score(y_test , knn_pred)\n",
        "print(\"Recall:\", recall)\n",
        "\n",
        "# F1-Score\n",
        "f1 = f1_score(y_test , knn_pred)\n",
        "print(\"F1-Score:\", f1)\n",
        "\n",
        "conf_matrix = confusion_matrix(y_test , knn_pred)\n",
        "print(\"Confusion Matrix:\")\n",
        "print(conf_matrix)\n",
        "\n",
        "print(\"Classification Report:\")\n",
        "print(classification_report(y_test , knn_pred))"
      ],
      "metadata": {
        "id": "73zCGxis90xY"
      },
      "execution_count": null,
      "outputs": []
    },
    {
      "cell_type": "markdown",
      "source": [],
      "metadata": {
        "id": "m2_L0ncW8JW2"
      }
    },
    {
      "cell_type": "code",
      "source": [
        "y_pred = model.predict(x_train_features) # for logistic regression"
      ],
      "metadata": {
        "id": "asq0yPHN2ydd"
      },
      "execution_count": null,
      "outputs": []
    },
    {
      "cell_type": "code",
      "source": [
        "# prediction on training data\n",
        "# logistic regression\n",
        "from sklearn.metrics import accuracy_score, precision_score, recall_score, f1_score, confusion_matrix\n",
        "from sklearn.metrics import classification_report\n",
        "\n",
        "print(accuracy_score(y_train , y_pred))\n",
        "\n",
        "precision = precision_score(y_train , y_pred)\n",
        "print(\"Precision:\", precision)\n",
        "\n",
        "# Recall\n",
        "recall = recall_score(y_train , y_pred)\n",
        "print(\"Recall:\", recall)\n",
        "\n",
        "# F1-Score\n",
        "f1 = f1_score(y_train , y_pred)\n",
        "print(\"F1-Score:\", f1)\n",
        "\n",
        "conf_matrix = confusion_matrix(y_train , y_pred)\n",
        "print(\"Confusion Matrix:\")\n",
        "print(conf_matrix)\n",
        "\n",
        "print(\"Classification Report:\")\n",
        "print(classification_report(y_train, y_pred))"
      ],
      "metadata": {
        "id": "axdNsgIr1u9J"
      },
      "execution_count": null,
      "outputs": []
    },
    {
      "cell_type": "code",
      "source": [
        "# prediction on test data\n",
        "\n",
        "y_pred_test = model.predict(x_test_features)\n",
        "print(accuracy_score(y_test , y_pred_test))\n",
        "\n",
        "precision = precision_score(y_test, y_pred_test)\n",
        "print(\"Precision:\", precision)\n",
        "\n",
        "# Recall\n",
        "recall = recall_score(y_test, y_pred_test)\n",
        "print(\"Recall:\", recall)\n",
        "\n",
        "# F1-Score\n",
        "f1 = f1_score(y_test, y_pred_test)\n",
        "print(\"F1-Score:\", f1)\n",
        "\n",
        "conf_matrix = confusion_matrix(y_test, y_pred_test)\n",
        "print(\"Confusion Matrix:\")\n",
        "print(conf_matrix)"
      ],
      "metadata": {
        "id": "Bv9Rn9Da3Ye2"
      },
      "execution_count": null,
      "outputs": []
    },
    {
      "cell_type": "code",
      "source": [
        "# BUILDING A PREDICTIVE SYSTEM\n",
        "\n",
        "input = [\"Please find attached your invoice for the amount of $500. Payment is due immediately.Download your invoice: [Suspicious Attachment]If you have any questions, don’t hesitate to contact us\"]\n",
        "\n",
        "input = feature_extraction.transform(input)\n",
        "\n",
        "# make predction\n",
        "prediction = model.predict(input)\n",
        "\n",
        "if prediction == 0 :\n",
        "     print(\"Not spam\")\n",
        "\n",
        "else :\n",
        "  print(\"Spam mail\")"
      ],
      "metadata": {
        "id": "tX-Yb4z-4j7l"
      },
      "execution_count": null,
      "outputs": []
    }
  ]
}